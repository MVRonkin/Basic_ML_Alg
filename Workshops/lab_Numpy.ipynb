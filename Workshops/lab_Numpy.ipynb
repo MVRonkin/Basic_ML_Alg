{
 "cells": [
  {
   "cell_type": "markdown",
   "metadata": {
    "id": "tbjwMUbvon8-"
   },
   "source": [
    "# NUMPY"
   ]
  },
  {
   "cell_type": "markdown",
   "metadata": {
    "id": "ll6HxfQWon9G"
   },
   "source": [
    "NumPy (Numerical Python) — стандартная библиотека Python для научных расчётов, машинного обучения и других прикладных задач. Это фундаментальная библиотека для работы с массивами и математическими операциями в Python.\n",
    "\n",
    "Основные характеристики\n",
    "Основной тип данных — N-мерные массивы (ndarray)\n",
    "\n",
    "Производительность — библиотека написана на C/C++, что обеспечивает высокую скорость вычислений\n",
    "\n",
    "Интеграция — легко интегрируется с другими библиотеками Python\n",
    "\n",
    "Поддержка — активное развитие и поддержка сообщества\n",
    "\n"
   ]
  },
  {
   "cell_type": "code",
   "execution_count": 27,
   "metadata": {
    "id": "8JiZsJ6aon9H",
    "outputId": "bbee879d-cdc0-449b-97ab-0189c3d7d119"
   },
   "outputs": [],
   "source": [
    "try:\n",
    "    import numpy\n",
    "except:\n",
    "    %pip install numpy "
   ]
  },
  {
   "cell_type": "code",
   "execution_count": 28,
   "metadata": {
    "id": "sWfuF0Muon9M"
   },
   "outputs": [],
   "source": [
    "# Import the numpy package as np\n",
    "import numpy as np"
   ]
  },
  {
   "cell_type": "markdown",
   "metadata": {
    "id": "-Z1MRtcCon9P"
   },
   "source": [
    "<font size=4 face = 'Calibri' > пример получения numpy array из литса - нативного типа данных"
   ]
  },
  {
   "cell_type": "code",
   "execution_count": 29,
   "metadata": {
    "id": "eQKxKhYCon9Q"
   },
   "outputs": [],
   "source": [
    "import numpy as np\n",
    "# Create 2 new lists a and b\n",
    "a = [1.87,  1.87, 1.82, 1.91, 1.90, 1.85]\n",
    "b = [81.65, 97.52, 95.25, 92.98, 86.18, 88.45]\n",
    "\n",
    "\n",
    "\n",
    "# Create 2 numpy arrays from height and weight\n",
    "np_a = np.array(a)\n",
    "np_b = np.array(b)"
   ]
  },
  {
   "cell_type": "code",
   "execution_count": 30,
   "metadata": {
    "id": "fjpYWAxeon9a",
    "outputId": "f48e06be-ffa9-44c7-a4f5-a5a44e89b1f1"
   },
   "outputs": [
    {
     "name": "stdout",
     "output_type": "stream",
     "text": [
      "<class 'numpy.ndarray'>\n",
      "<class 'list'>\n"
     ]
    }
   ],
   "source": [
    "print(type(np_a))\n",
    "print(type(a))"
   ]
  },
  {
   "cell_type": "markdown",
   "metadata": {
    "id": "Maqf8zecon9d"
   },
   "source": [
    "<font size=4 face = 'Calibri' > проверка типа"
   ]
  },
  {
   "cell_type": "code",
   "execution_count": 31,
   "metadata": {
    "id": "xRYzNBG-on9e",
    "outputId": "02173585-18da-4ccb-a8c5-a77d4232ce5b"
   },
   "outputs": [
    {
     "name": "stdout",
     "output_type": "stream",
     "text": [
      "float64\n"
     ]
    }
   ],
   "source": [
    "print(np_a.dtype)"
   ]
  },
  {
   "cell_type": "markdown",
   "metadata": {
    "id": "OcQiQJDzon9h"
   },
   "source": [
    "<font size=4 face = 'Calibri' > Также имеется возможность создания специальных типов массивов"
   ]
  },
  {
   "cell_type": "code",
   "execution_count": 32,
   "metadata": {
    "id": "xdnb12IXon9h",
    "outputId": "9a16736b-1f06-452c-c914-46271885b838"
   },
   "outputs": [
    {
     "name": "stdout",
     "output_type": "stream",
     "text": [
      "int32\n"
     ]
    }
   ],
   "source": [
    "a = np.array([15,25,14,78,96],dtype = \"int32\")\n",
    "print(a.dtype)"
   ]
  },
  {
   "cell_type": "markdown",
   "metadata": {
    "id": "ZpJiDErqon9n"
   },
   "source": [
    "<font size=4 face = 'Calibri' > массивы numpy поддерживают поэлеметные операции"
   ]
  },
  {
   "cell_type": "code",
   "execution_count": 33,
   "metadata": {
    "id": "23I346skon9o",
    "outputId": "87186cc7-fd16-4910-bc7d-bedafb94e992"
   },
   "outputs": [
    {
     "name": "stdout",
     "output_type": "stream",
     "text": [
      "[0.00056084 0.00039319 0.00040113 0.00044176 0.00051152 0.00047283]\n"
     ]
    }
   ],
   "source": [
    "# Calculate the \n",
    "cc = 2*np_a/ (np_b**2+np_a)\n",
    "\n",
    "# Print the result\n",
    "print(cc)"
   ]
  },
  {
   "cell_type": "markdown",
   "metadata": {
    "id": "YrRLsLZWon9s"
   },
   "source": [
    "<font size=4 face = 'Calibri' > Также поддежривается доступ к элементам по условию."
   ]
  },
  {
   "cell_type": "code",
   "execution_count": 8,
   "metadata": {
    "id": "L8psfijron9s",
    "outputId": "eea32b42-b513-468f-a706-68884c7a8e97"
   },
   "outputs": [
    {
     "name": "stdout",
     "output_type": "stream",
     "text": [
      "[25 78 96]\n",
      "conditional slices [78 96]\n"
     ]
    }
   ],
   "source": [
    "# Print only those observations above 23\n",
    "print(a[a > 23])\n",
    "print ('conditional slices '+str(a[np.where(a>28)]))"
   ]
  },
  {
   "cell_type": "code",
   "execution_count": 35,
   "metadata": {},
   "outputs": [
    {
     "name": "stdout",
     "output_type": "stream",
     "text": [
      "['комфортно' 'комфортно' 'комфортно' 'жарко' 'жарко' 'комфортно']\n",
      "[1. 0. 3. 0. 5.]\n"
     ]
    }
   ],
   "source": [
    "# Замена значений по условию\n",
    "temperatures = np.array([23, 25, 28, 32, 35, 29])\n",
    "status = np.where(temperatures > 30, 'жарко', 'комфортно')\n",
    "print(status)  # ['комфортно' 'комфортно' 'комфортно' 'жарко' 'жарко' 'комфортно']\n",
    "\n",
    "# Обработка пропущенных значений\n",
    "data = np.array([1, np.nan, 3, np.nan, 5])\n",
    "cleaned_data = np.where(np.isnan(data), 0, data)\n",
    "print(cleaned_data)  # [1. 0. 3. 0. 5.]"
   ]
  },
  {
   "cell_type": "markdown",
   "metadata": {
    "id": "l89iA2Nnon9v"
   },
   "source": [
    "### Упражнение"
   ]
  },
  {
   "cell_type": "markdown",
   "metadata": {
    "id": "EFvqSm2con9v"
   },
   "source": [
    "преобразовать лист в массив \n",
    "\n",
    "преобразовать массив весов из кг в тонны\n",
    "\n",
    "Пусть необходимо выбрать только элементы массива со значением веса меньше 100 кг (0.1 тонна) - поделите массив на две части\n"
   ]
  },
  {
   "cell_type": "code",
   "execution_count": 36,
   "metadata": {
    "id": "wIT9u5-eon9w"
   },
   "outputs": [],
   "source": [
    "weight_kg = [500, 1100, 1800, 81.65, 97.52, 95.25, 92.98, 86.18, 88.45, 100., 120.,240.,]\n",
    "\n",
    "import numpy as np\n",
    "\n",
    "# Create a numpy array np_weight_kg from weight_kg\n",
    "    \n",
    "\n",
    "# Create np_weight_ton from np_weight_kg\n",
    "\n",
    "# Print out np_weight_ton\n"
   ]
  },
  {
   "cell_type": "markdown",
   "metadata": {
    "id": "34fmUb_Von91"
   },
   "source": [
    "# масивы в Numpy"
   ]
  },
  {
   "cell_type": "markdown",
   "metadata": {
    "id": "LyJaTXghon92"
   },
   "source": [
    "<font size=4 face = 'Calibri' >  Ниже приведены методы объявления массивов в numpy"
   ]
  },
  {
   "cell_type": "code",
   "execution_count": 10,
   "metadata": {
    "id": "EHM4YjXEon93",
    "outputId": "63060701-e534-435b-8c64-bf6a07f2b054"
   },
   "outputs": [
    {
     "name": "stdout",
     "output_type": "stream",
     "text": [
      "[20 21 22 23 24 25 26 27 28 29]\n"
     ]
    }
   ],
   "source": [
    "b = np.arange(start = 20,stop = 30)  \n",
    "print(b)"
   ]
  },
  {
   "cell_type": "markdown",
   "metadata": {
    "id": "rqKCUUXhon95"
   },
   "source": [
    "<font size=4 face = 'Calibri' > \n",
    "    также методы вызова"
   ]
  },
  {
   "cell_type": "code",
   "execution_count": 11,
   "metadata": {
    "id": "kHYhHrh8on95",
    "outputId": "595373af-06ce-410b-f0bb-fab9219b9a31"
   },
   "outputs": [
    {
     "name": "stdout",
     "output_type": "stream",
     "text": [
      "[0 1 2 3 4 5 6 7 8 9]\n",
      "[10 14 18 22 26]\n",
      "[10.         16.66666667 23.33333333 30.        ]\n",
      "[ 1  1  1 10 10 10]\n"
     ]
    }
   ],
   "source": [
    "c = np.arange(10)# same as range\n",
    "d = np.arange(10,30,4 )# #start = 10, stop = 30, step = 4\n",
    "e = np.linspace(10,30,4) #start = 10, stop = 30, number of elemets = 4\n",
    "f = np.repeat([1,10],3)\n",
    "\n",
    "print(c)\n",
    "print(d)\n",
    "print(e)\n",
    "print(f)"
   ]
  },
  {
   "cell_type": "markdown",
   "metadata": {
    "id": "v5FYcw9von98"
   },
   "source": [
    "использование метода reshape позволяет менять форму массивы\n"
   ]
  },
  {
   "cell_type": "code",
   "execution_count": 76,
   "metadata": {},
   "outputs": [],
   "source": [
    "# Создание исходного массива\n",
    "arr = np.array([1, 2, 3, 4, 5, 6])\n",
    "\n",
    "# Изменение формы\n",
    "reshaped_arr = arr.reshape((2, 3))  # Результат: [[1 2 3], [4 5 6]]\n",
    "\n",
    "# Автоматическое вычисление размера\n",
    "auto_reshaped = arr.reshape((-1, 2))  # Результат: [[1 2], [3 4], [5 6]]"
   ]
  },
  {
   "cell_type": "code",
   "execution_count": 77,
   "metadata": {},
   "outputs": [
    {
     "data": {
      "text/plain": [
       "array([[1, 3, 5],\n",
       "       [2, 4, 6]])"
      ]
     },
     "execution_count": 77,
     "metadata": {},
     "output_type": "execute_result"
    }
   ],
   "source": [
    "auto_reshaped.T #траспонирование"
   ]
  },
  {
   "cell_type": "code",
   "execution_count": 81,
   "metadata": {},
   "outputs": [],
   "source": [
    "# Преобразование в одномерный массив\n",
    "flattened = arr.ravel()  # Результат: [1 2 3 4 5 6]\n",
    " "
   ]
  },
  {
   "cell_type": "code",
   "execution_count": 79,
   "metadata": {},
   "outputs": [],
   "source": [
    "expaned_arr = np.expand_dims(flattened, axis=0)  # Добавит новую ось в начало"
   ]
  },
  {
   "cell_type": "code",
   "execution_count": 84,
   "metadata": {},
   "outputs": [],
   "source": [
    "# Добавление новой оси\n",
    "a = np.arange(1, 10)\n",
    "b = a[np.newaxis, :]  # Добавит ось в начало"
   ]
  },
  {
   "cell_type": "code",
   "execution_count": 86,
   "metadata": {},
   "outputs": [],
   "source": [
    "squeezed = np.squeeze(b)  # Удалит оси размером 1"
   ]
  },
  {
   "cell_type": "code",
   "execution_count": 88,
   "metadata": {},
   "outputs": [],
   "source": [
    "# Пример работы с изображениями\n",
    "image = np.random.rand(28, 28)  # Матрица 28x28\n",
    "image_with_channels = image.reshape(1, 28, 28)  # Добавление канала\n",
    "image_with_channels = image_with_channels.transpose((1,2,0))  # Делаем изображения читаемым"
   ]
  },
  {
   "cell_type": "markdown",
   "metadata": {},
   "source": [
    "### Упражнение\n",
    "1 Визуализируйте все типы массивов и объясните действие каждой функции"
   ]
  },
  {
   "cell_type": "code",
   "execution_count": null,
   "metadata": {},
   "outputs": [],
   "source": []
  },
  {
   "cell_type": "markdown",
   "metadata": {},
   "source": [
    "2 Создайте массив из 40 значенвий от -19 до 20.\n",
    "\n",
    "преобразуйте массив в матрицу с последовательностью цифр по строкам, по столцам,\n",
    "\n",
    "\n",
    "Замените в матрице все числа выше 0 нулями.\n"
   ]
  },
  {
   "cell_type": "code",
   "execution_count": null,
   "metadata": {},
   "outputs": [],
   "source": []
  },
  {
   "cell_type": "markdown",
   "metadata": {
    "id": "pV2XOwj8on-A"
   },
   "source": [
    "## специальные типы массивов"
   ]
  },
  {
   "cell_type": "code",
   "execution_count": 13,
   "metadata": {
    "id": "J4A_sS3von-A",
    "outputId": "5ca141eb-6e94-4344-a560-b2b1df52e685"
   },
   "outputs": [
    {
     "name": "stdout",
     "output_type": "stream",
     "text": [
      "[0. 0. 0. 0. 0. 0. 0. 0. 0. 0.]\n",
      "[[0. 0. 0.]\n",
      " [0. 0. 0.]\n",
      " [0. 0. 0.]]\n"
     ]
    }
   ],
   "source": [
    "a=np.zeros(10)\n",
    "print(a)\n",
    "a=np.zeros([3,3])\n",
    "print(a)"
   ]
  },
  {
   "cell_type": "code",
   "execution_count": 14,
   "metadata": {
    "id": "I4zSrvwvon-D",
    "outputId": "a6b06315-20a4-4988-e3f1-e2f200320f8c"
   },
   "outputs": [
    {
     "name": "stdout",
     "output_type": "stream",
     "text": [
      "[1. 1. 1. 1. 1. 1. 1. 1. 1. 1.]\n",
      "[[1. 1. 1.]\n",
      " [1. 1. 1.]\n",
      " [1. 1. 1.]]\n"
     ]
    }
   ],
   "source": [
    "a=np.ones(10)\n",
    "print(a)\n",
    "a=np.ones([3,3])\n",
    "print(a)"
   ]
  },
  {
   "cell_type": "code",
   "execution_count": 15,
   "metadata": {
    "id": "ESUYHtWBon-H",
    "outputId": "a164cf2c-6867-4dfa-8406-bec04899671b"
   },
   "outputs": [
    {
     "name": "stdout",
     "output_type": "stream",
     "text": [
      "[[3.14 3.14]\n",
      " [3.14 3.14]]\n"
     ]
    }
   ],
   "source": [
    "a=np.full([2,2],3.14)\n",
    "print(a)"
   ]
  },
  {
   "cell_type": "code",
   "execution_count": 16,
   "metadata": {
    "id": "kszD4HBQon-K",
    "outputId": "32d80243-9505-4962-dabb-20779c19f580"
   },
   "outputs": [
    {
     "name": "stdout",
     "output_type": "stream",
     "text": [
      "[0. 0. 0. 0. 0. 0. 0. 0. 0. 0. 0. 0.]\n"
     ]
    }
   ],
   "source": [
    "c=np.empty(12) #Return a new array of given shape and type, without initializing entries.\n",
    "print(c)"
   ]
  },
  {
   "cell_type": "code",
   "execution_count": 18,
   "metadata": {
    "id": "K2IKRDCSon-P",
    "outputId": "f68642f9-df17-4638-f7fd-28186d724bdb"
   },
   "outputs": [
    {
     "name": "stdout",
     "output_type": "stream",
     "text": [
      "[[14  0  0  0]\n",
      " [ 0 15  0  0]\n",
      " [ 0  0 16  0]\n",
      " [ 0  0  0 17]]\n"
     ]
    }
   ],
   "source": [
    "\n",
    "a = np.diag([14,15,16,17])\n",
    "print(a)"
   ]
  },
  {
   "cell_type": "code",
   "execution_count": 19,
   "metadata": {
    "id": "9ailj6-ton-U",
    "outputId": "8fedb352-f642-4c1b-cde9-e443cf0c5c03"
   },
   "outputs": [
    {
     "name": "stdout",
     "output_type": "stream",
     "text": [
      "[[1 0 0]\n",
      " [0 1 0]\n",
      " [0 0 1]]\n"
     ]
    }
   ],
   "source": [
    "a=np.eye(3,dtype = \"int\")\n",
    "print(a)\n"
   ]
  },
  {
   "cell_type": "code",
   "execution_count": 93,
   "metadata": {
    "id": "Yy0qD0-ron-Z",
    "outputId": "2bd5fe79-ac03-4bd6-fb61-95d89f5f5e45",
    "scrolled": true
   },
   "outputs": [
    {
     "name": "stdout",
     "output_type": "stream",
     "text": [
      "[[0.45242809 0.72767895 0.96984674]\n",
      " [0.36923294 0.16330327 0.21344303]\n",
      " [0.43387699 0.14084488 0.8963021 ]]\n",
      "\n",
      " normally distributed values \n",
      "\n",
      "[[ 3.21396186 -1.84061532]\n",
      " [ 4.57903259 -0.69935791]]\n"
     ]
    }
   ],
   "source": [
    "Z = np.random.random((3,3))\n",
    "print(Z)\n",
    "\n",
    "print('\\n normally distributed values \\n')\n",
    "Z=np.random.normal(loc=0, scale = 3, size=(2,2))\n",
    "print(Z)"
   ]
  },
  {
   "cell_type": "code",
   "execution_count": 94,
   "metadata": {},
   "outputs": [
    {
     "name": "stdout",
     "output_type": "stream",
     "text": [
      "Среднее: 1.31, Стандартное отклонение: 2.66, Медиана: 1.26\n"
     ]
    }
   ],
   "source": [
    "# Посчитать статистику\n",
    "mean = np.mean(Z)\n",
    "std = np.std(Z)\n",
    "median = np.median(Z)\n",
    "\n",
    "print(f\"Среднее: {mean:.2f}, Стандартное отклонение: {std:.2f}, Медиана: {median:.2f}\")"
   ]
  },
  {
   "cell_type": "code",
   "execution_count": null,
   "metadata": {},
   "outputs": [],
   "source": []
  },
  {
   "cell_type": "markdown",
   "metadata": {},
   "source": [
    "### Упражнение\n",
    "Создайте массив из 1000 случайных элементов"
   ]
  },
  {
   "cell_type": "markdown",
   "metadata": {
    "id": "lXd5vHihon-b"
   },
   "source": [
    "<font size=4 face = 'Calibri' >   операция перемножения матриц: dot( ) "
   ]
  },
  {
   "cell_type": "code",
   "execution_count": 21,
   "metadata": {
    "id": "qNyxX5cjon-b",
    "outputId": "b0211c00-e6ab-4e72-f2c5-d662cac8bba5"
   },
   "outputs": [
    {
     "name": "stdout",
     "output_type": "stream",
     "text": [
      "\n",
      " A \n",
      "\n",
      "[[2 2]\n",
      " [2 2]]\n",
      "\n",
      " B \n",
      "\n",
      "[[1 3]\n",
      " [4 5]]\n",
      "\n",
      " A*B \n",
      "\n",
      "[[10 16]\n",
      " [10 16]]\n",
      "\n",
      " B*A \n",
      "\n",
      "[[ 8  8]\n",
      " [18 18]]\n"
     ]
    }
   ],
   "source": [
    "print('\\n A \\n')\n",
    "a = np.full([2,2],2)\n",
    "print(a)\n",
    "\n",
    "print('\\n B \\n')\n",
    "b = np.array([(1,3),(4,5)])\n",
    "print(b)\n",
    "\n",
    "print('\\n A*B \\n')\n",
    "c=a.dot(b)\n",
    "print(c)\n",
    "\n",
    "print('\\n B*A \\n')\n",
    "d=b.dot(a)\n",
    "print(d)"
   ]
  },
  {
   "cell_type": "code",
   "execution_count": 22,
   "metadata": {
    "id": "INDvCTVSon-d",
    "outputId": "2512b4b5-fce8-4ce8-d3f1-766bcf3b0a61"
   },
   "outputs": [
    {
     "name": "stdout",
     "output_type": "stream",
     "text": [
      "\n",
      " A \n",
      "\n",
      "[[1 3]\n",
      " [4 5]]\n",
      "\n",
      " vecotr V \n",
      "\n",
      "[[2]\n",
      " [2]]\n",
      "\n",
      " transposed vecotr VT \n",
      "\n",
      "[2 2]\n",
      "\n",
      " A*V \n",
      "\n",
      "[[ 8]\n",
      " [18]]\n",
      "\n",
      " VT*A \n",
      "\n",
      "[10 16]\n",
      "\n",
      " VT*A*V \n",
      "\n",
      "[52]\n"
     ]
    }
   ],
   "source": [
    "print('\\n A \\n')\n",
    "a = np.array([(1,3),(4,5)])\n",
    "print(a)\n",
    "\n",
    "print('\\n vecotr V \\n')\n",
    "v = np.array([[2],[2]])\n",
    "print(v)\n",
    "print('\\n transposed vecotr VT \\n')\n",
    "vt = np.array([2,2])\n",
    "print(vt)\n",
    "\n",
    "\n",
    "print('\\n A*V \\n')\n",
    "c=a.dot(v)\n",
    "print(c)\n",
    "\n",
    "print('\\n VT*A \\n')\n",
    "d=vt.dot(a)\n",
    "print(d)\n",
    "\n",
    "\n",
    "print('\\n VT*A*V \\n')\n",
    "e=vt.dot(a)\n",
    "e = e.dot(v)\n",
    "print(e)"
   ]
  },
  {
   "cell_type": "markdown",
   "metadata": {
    "id": "xzWnCGHuon-h"
   },
   "source": [
    "###### операции с двумерными массивами"
   ]
  },
  {
   "cell_type": "code",
   "execution_count": 23,
   "metadata": {
    "id": "S2il7TVvon-j",
    "outputId": "6e01151f-c7da-43e2-c8c5-137d2e8c735b"
   },
   "outputs": [
    {
     "name": "stdout",
     "output_type": "stream",
     "text": [
      "36.99999999999998\n",
      "\n",
      "  transpose matrix \n",
      "\n",
      "[[1 3 8]\n",
      " [2 2 7]\n",
      " [3 6 8]]\n",
      "\n",
      "  inverse matrix \n",
      "\n",
      "[[-0.7027027   0.13513514  0.16216216]\n",
      " [ 0.64864865 -0.43243243  0.08108108]\n",
      " [ 0.13513514  0.24324324 -0.10810811]]\n",
      "\n",
      " multiplications of straight and inverse matrices \n",
      "\n",
      "[[ 1.00000000e+00  1.11022302e-16  4.44089210e-16]\n",
      " [-1.11022302e-16  1.00000000e+00 -4.44089210e-16]\n",
      " [ 0.00000000e+00  0.00000000e+00  1.00000000e+00]]\n"
     ]
    }
   ],
   "source": [
    "a=np.array([(1,2,3),(3,2,6),(8,7,8)])\n",
    "\n",
    "#for the first we should check the determinant on non zero value\n",
    "print(np.linalg.det(a) )\n",
    "\n",
    "print('\\n  transpose matrix \\n')\n",
    "at = a.transpose()\n",
    "print(at)\n",
    "\n",
    "print('\\n  inverse matrix \\n')\n",
    "ainv = np.linalg.inv(a)\n",
    "print(ainv)\n",
    "\n",
    "print('\\n multiplications of straight and inverse matrices \\n')\n",
    "print(ainv.dot(a))"
   ]
  },
  {
   "cell_type": "markdown",
   "metadata": {
    "id": "oXYWXWXVon-p"
   },
   "source": [
    "### Упражнение"
   ]
  },
  {
   "cell_type": "markdown",
   "metadata": {
    "id": "km3R45Xvon-q"
   },
   "source": [
    "в приведенном премере функция делает из входной матрицы верхнюю триугольную \n",
    "###### задание: по образу приведенного примера написать функции, позволяющие получить следующие типы матриц:"
   ]
  },
  {
   "cell_type": "code",
   "execution_count": 24,
   "metadata": {
    "id": "6zJnbNrDon-r",
    "outputId": "60ec22cf-b8dc-428e-d6ff-ea7191065e24"
   },
   "outputs": [
    {
     "name": "stdout",
     "output_type": "stream",
     "text": [
      "(3, 2)\n",
      "[[1 2 3]\n",
      " [0 2 6]\n",
      " [0 0 8]]\n",
      "[[ 1  2]\n",
      " [ 0 26]\n",
      " [ 0  0]]\n"
     ]
    }
   ],
   "source": [
    "b=np.array([(1,2,3),(3,2,6),(8,7,8)])\n",
    "c=np.array([(1,2),(53,26),(3,20)])\n",
    "print(c.shape)\n",
    "\n",
    "def up_triangle(a):    \n",
    "    # we solve the task by moving throgh rows and columns in 2 nested loops\n",
    "    for row_ind in range(a.shape[0]):        \n",
    "        for column_ind in range(a.shape[1]):\n",
    "            # check the condition \n",
    "            if(row_ind>column_ind):                \n",
    "                a[row_ind,column_ind]=0\n",
    "    return a\n",
    "\n",
    "print(up_triangle(b))\n",
    "print(up_triangle(c))\n"
   ]
  },
  {
   "cell_type": "markdown",
   "metadata": {
    "id": "B4UrBpX0on-t"
   },
   "source": [
    "\n",
    "<font size=4 face = 'Calibri' >  \n",
    "\n",
    "1. low-triangle element matrix \n",
    "\n",
    "входные данные - матрица\n",
    "\n",
    "\\begin{equation}\n",
    "A = \n",
    "\\begin{bmatrix}\n",
    "a_{11}, a_{12}, a_{13}\\\\\n",
    "a_{21},a_{22},a_{23}\\\\\n",
    "a_{31},a_{32},a_{33}\n",
    "\\end{bmatrix}\n",
    "\\end{equation}\n",
    "\n",
    "\n",
    "output matrix\n",
    "\n",
    "\\begin{equation}\n",
    "A = \n",
    "\\begin{bmatrix}\n",
    "a_{11},  0,  0\\\\\n",
    "a_{21},a_{22}, 0\\\\\n",
    "a_{31},a_{32},a_{33}\n",
    "\\end{bmatrix}\n",
    "\\end{equation}"
   ]
  },
  {
   "cell_type": "markdown",
   "metadata": {
    "id": "IPZG6anron-t"
   },
   "source": [
    "<font size=4 face = 'Calibri' >  \n",
    "2. симитричная матрица $A^T=A$ ( $ {\\displaystyle \\forall i,j:a_{ij}=a_{ji}}$))\n",
    "\n",
    "input matrix with triangle elements\n",
    "\n",
    "output matrix\n",
    "\n",
    "\\begin{equation}\n",
    "A = \n",
    "\\begin{bmatrix}\n",
    "a_{11}, a_{21}, a_{31}\\\\\n",
    "a_{21},a_{22},a_{32}\\\\\n",
    "a_{31},a_{32},a_{33}\n",
    "\\end{bmatrix}\n",
    "\\end{equation}\n",
    "\n",
    "\n",
    "3. матрица Ганкиля\n",
    "\n",
    " input array $a_0, a_1,...$ \n",
    " \n",
    " output\n",
    "\n",
    "\\begin{equation}\n",
    "A = \n",
    "\\begin{bmatrix}\n",
    "a_0, a_1, a_2\\\\\n",
    "a_1,a_2,a_3\\\\\n",
    "a_2,a_3,a_4\n",
    "\\end{bmatrix}\n",
    "\\end{equation}\n",
    "\n",
    "4. Типлицова матрица (${\\displaystyle a_{i,\\,j}=a_{i-1,\\,j-1}.}$)\n",
    "\n",
    " input array $a_0, a_1,...$\n",
    " \n",
    "  output\n",
    "\n",
    "\\begin{equation}\n",
    "A = \n",
    "\\begin{bmatrix}\n",
    "a_0, a_1, a_2\\\\\n",
    "a_1,a_0,a_1\\\\\n",
    "a_2,a_1,a_0\n",
    "\\end{bmatrix}\n",
    "\\end{equation}\n",
    "\n"
   ]
  },
  {
   "cell_type": "code",
   "execution_count": null,
   "metadata": {
    "id": "25o20RTjon-u"
   },
   "outputs": [],
   "source": [
    "# place your answers here\n",
    "\n",
    "\n",
    "\n",
    "\n"
   ]
  },
  {
   "cell_type": "markdown",
   "metadata": {
    "id": "WO48dmZ8on-w"
   },
   "source": [
    "# линейная алгибра в  numpy"
   ]
  },
  {
   "cell_type": "markdown",
   "metadata": {
    "id": "FQX8YDkHon-w"
   },
   "source": [
    "<font size=4 face = 'Calibri' >  модуль numpy имеет библиотеки для реализации процедур линейной алгебры"
   ]
  },
  {
   "cell_type": "markdown",
   "metadata": {
    "id": "L_EfE4Sron-x"
   },
   "source": [
    "<font size=4 face = 'Calibri' >  for solving equations $Ax=b$\n",
    "\n",
    "\\begin{equation}\n",
    "    \\begin{cases}\n",
    "        1x_1+2x_2=3 \\\\\n",
    "        3x_1+2x_2=4\n",
    "        \\end{cases} -> AX=B->X=A^{-1}B, \n",
    "        \\end{equation}\n",
    "        \n",
    "\\begin{equation}        \n",
    " A=\\begin{bmatrix}\n",
    "1,2\\\\\n",
    "3,2\\\\\n",
    "\\end{bmatrix}, \n",
    "\\end{equation}\n",
    "\n",
    "\\begin{equation}  \n",
    "X=\\begin{bmatrix}\n",
    "x_1\\\\\n",
    "x_2\\\\\n",
    "\\end{bmatrix}\n",
    "\\end{equation}\n",
    "\n",
    "\n",
    "\\begin{equation}  \n",
    "B=\\begin{bmatrix}\n",
    "3\\\\\n",
    "4\\\\\n",
    "\\end{bmatrix}\n",
    "\\end{equation}"
   ]
  },
  {
   "cell_type": "code",
   "execution_count": null,
   "metadata": {
    "id": "RCltuFQRon-x",
    "outputId": "266391c0-0c9b-462e-81a2-c2454dc0e3c0"
   },
   "outputs": [
    {
     "name": "stdout",
     "output_type": "stream",
     "text": [
      "[[0.5 ]\n",
      " [1.25]]\n"
     ]
    }
   ],
   "source": [
    "a=np.array([[1,2],[3,2]])\n",
    "b=np.array([[3],[4]])\n",
    "x=np.linalg.solve(a,b)\n",
    "print(x)"
   ]
  },
  {
   "cell_type": "markdown",
   "metadata": {
    "id": "oMeZEizBon-0"
   },
   "source": [
    "<font size=4 face = 'Calibri' >  детерминант"
   ]
  },
  {
   "cell_type": "code",
   "execution_count": null,
   "metadata": {
    "id": "4V28EpGxon-0",
    "outputId": "6c7f6490-6b78-4d05-dc84-2ebfa1c70c5e"
   },
   "outputs": [
    {
     "name": "stdout",
     "output_type": "stream",
     "text": [
      "[[1, 2], [3, 2]]\n",
      "-4.000000000000001\n"
     ]
    }
   ],
   "source": [
    "a=np.array([[1,2],[3,2]])\n",
    "print(a)\n",
    "b = np.linalg.det(a)\n",
    "print(b)"
   ]
  },
  {
   "cell_type": "markdown",
   "metadata": {
    "id": "ANaU6GKbon-3"
   },
   "source": [
    "<font size=4 face = 'Calibri' >  ранг матрицы"
   ]
  },
  {
   "cell_type": "code",
   "execution_count": null,
   "metadata": {
    "id": "rZc2m12Mon-4",
    "outputId": "4bab94cc-7370-457b-bade-2e2cc55d3413"
   },
   "outputs": [
    {
     "name": "stdout",
     "output_type": "stream",
     "text": [
      "2\n"
     ]
    }
   ],
   "source": [
    "print(np.linalg.matrix_rank(a))"
   ]
  },
  {
   "cell_type": "code",
   "execution_count": null,
   "metadata": {
    "id": "ZV-R2ZWron-6",
    "outputId": "1d9a428d-7138-4413-e934-f88c7a631105"
   },
   "outputs": [
    {
     "name": "stdout",
     "output_type": "stream",
     "text": [
      "4.242640687119285\n"
     ]
    }
   ],
   "source": [
    "print (np.linalg.norm(a))"
   ]
  },
  {
   "cell_type": "markdown",
   "metadata": {
    "id": "Qxi1ZUS9on-8"
   },
   "source": [
    "<font size=4 face = 'Calibri' >  вычисление числа обусловленности матрицы ( $ || A||*||A^{-1} ||$)  "
   ]
  },
  {
   "cell_type": "code",
   "execution_count": null,
   "metadata": {
    "id": "-knvNc1Lon-8",
    "outputId": "a4dd4a6f-38e5-4a4b-d3b6-30d06459c93a"
   },
   "outputs": [
    {
     "name": "stdout",
     "output_type": "stream",
     "text": [
      "4.26556443707464\n",
      "4.499999999999999\n"
     ]
    }
   ],
   "source": [
    "print(np.linalg.cond(a))\n",
    "print(np.linalg.norm(a)*np.linalg.norm(np.linalg.inv(a)))"
   ]
  },
  {
   "cell_type": "code",
   "execution_count": null,
   "metadata": {
    "id": "L9Zauw6uon--",
    "outputId": "edc5bf0d-d739-4d0a-f6f1-10751a59b945"
   },
   "outputs": [
    {
     "name": "stdout",
     "output_type": "stream",
     "text": [
      "2\n",
      "5.5664696235939815\n"
     ]
    }
   ],
   "source": [
    "a=np.array([[1,2],[3,2],[3,4]])\n",
    "print(np.linalg.matrix_rank(a))\n",
    "print(np.linalg.cond(a))\n"
   ]
  },
  {
   "cell_type": "markdown",
   "metadata": {
    "id": "MYBmRHt-on_A"
   },
   "source": [
    "### Упражнение"
   ]
  },
  {
   "cell_type": "markdown",
   "metadata": {
    "id": "H-6TB3lPon_B"
   },
   "source": [
    "<font size=4 face = 'Calibri' >  \n",
    "Сделать вывод о том, как в приведенных ниже примерах вид матрицы влияет на число обусловленности  \n",
    "\n",
    "\n",
    "\n",
    "<font size=4 face = 'Calibri' ><br>\n",
    "Число обусловленности матрицы — это количественная характеристика, которая показывает, насколько сильно может измениться решение системы линейных уравнений при малых изменениях входных данных (элементов матрицы или правой части).\n",
    "\n",
    "<font size=4 face = 'Calibri' ><br>  \n",
    "если данные плохо обусловлены, то это значит, что они сильно коррелируют и использовать такую выборку напрямую нельзя, надо проводить регуляризацию или иные меры по стабилизации выборки.\n",
    "\n",
    "\n",
    "\n",
    "В контексте нейронных сетей число обусловленности имеет особое значение:\n",
    "\n",
    "Устойчивость модели: показывает, насколько стабильным будет результат работы нейронной сети при небольших изменениях входных данных.\n",
    "\n",
    "Чувствительность: позволяет оценить, насколько сильно изменится выход сети при малых возмущениях на входе.\n",
    "\n",
    "Качество обучения: большое число обусловленности может указывать на проблемы с обучением модели и потенциальную неустойчивость процесса оптимизации.\n",
    "\n",
    "Важно отметить, что:\n",
    "\n",
    "* Малое число обусловленности указывает на хорошую обусловленность матрицы и устойчивость решения.\n",
    "\n",
    "* Большое число обусловленности свидетельствует о плохой обусловленности и потенциальной неустойчивости вычислений.\n",
    "\n",
    "* В случае нейронных сетей высокая обусловленность может приводить к переобучению и плохой обобщающей способности модели."
   ]
  },
  {
   "cell_type": "code",
   "execution_count": null,
   "metadata": {
    "id": "btg1cLJFon_B",
    "outputId": "f562be65-2a85-4d9d-9bc0-c3c001eb4150"
   },
   "outputs": [
    {
     "name": "stdout",
     "output_type": "stream",
     "text": [
      "\n",
      " zero case \n",
      "\n",
      "[[1 2 2]\n",
      " [3 2 2]\n",
      " [2 8 3]]\n",
      "3\n",
      "12.066400584913998\n",
      "\n",
      " first case \n",
      "\n",
      "[[1 2 2]\n",
      " [3 2 2]\n",
      " [2 4 4]]\n",
      "2\n",
      "inf\n",
      "\n",
      " second case \n",
      "\n",
      "[[1.     2.     2.    ]\n",
      " [3.     2.     2.    ]\n",
      " [2.     3.9997 4.005 ]]\n",
      "3\n",
      "4599.330788755894\n",
      "\n",
      " third case \n",
      "\n",
      "[[1.     0.1    0.1    0.1    0.1   ]\n",
      " [1.     0.1    0.1    0.1    0.1   ]\n",
      " [1.     0.1    0.1    0.1    0.1   ]\n",
      " [1.     0.1    0.1    0.1    0.1   ]\n",
      " [1.     0.1    0.1    0.1    0.1009]]\n",
      "2\n",
      "4.259261762492862e+35\n",
      "\n",
      " forth case \n",
      "\n",
      "[[1.e-09 0.e+00 0.e+00]\n",
      " [0.e+00 1.e-06 0.e+00]\n",
      " [0.e+00 1.e-12 0.e+00]]\n",
      "2\n",
      "inf\n",
      "\n",
      " fifth case \n",
      "\n",
      "[[1.e+00 0.e+00 1.e-01]\n",
      " [0.e+00 1.e-01 0.e+00]\n",
      " [0.e+00 1.e-03 1.e-44]]\n",
      "2\n",
      "inf\n",
      "\n",
      " sixth case \n",
      "\n",
      "[[1.e+00 0.e+00 1.e-01]\n",
      " [0.e+00 1.e-01 0.e+00]\n",
      " [0.e+00 1.e-03 1.e-04]]\n",
      "3\n",
      "10100.50498886565\n"
     ]
    }
   ],
   "source": [
    "print('\\n zero case \\n')\n",
    "\n",
    "a=np.array([[1,2,2],[3,2,2],[2,8,3]])\n",
    "print(a)\n",
    "print(np.linalg.matrix_rank(a))\n",
    "print(np.linalg.cond(a))\n",
    "\n",
    "print('\\n first case \\n')\n",
    "\n",
    "a=np.array([[1,2,2],[3,2,2],[2,4,4]])\n",
    "print(a)\n",
    "print(np.linalg.matrix_rank(a))\n",
    "print(np.linalg.cond(a))\n",
    "\n",
    "\n",
    "print('\\n second case \\n')\n",
    "\n",
    "a=np.array([[1,2,2],[3,2,2],[2,3.9997,4.005]])\n",
    "print(a)\n",
    "print(np.linalg.matrix_rank(a))\n",
    "print(np.linalg.cond(a))\n",
    "\n",
    "print('\\n third case \\n')\n",
    "\n",
    "a=np.array([[1,0.1,0.1,0.1,0.1],\n",
    "            [1,0.1,0.1,0.1,0.1],\n",
    "            [1,0.1,0.1,0.1,0.1],\n",
    "            [1,0.1,0.1,0.1,0.1],\n",
    "            [1,0.1,0.1,0.1,0.1009]  ])\n",
    "print(a)\n",
    "print(np.linalg.matrix_rank(a))\n",
    "print(np.linalg.cond(a))\n",
    "\n",
    "\n",
    "print('\\n forth case \\n')\n",
    "\n",
    "a=np.array([[1e-9,0,0],\n",
    "            [0,1e-6,0],\n",
    "            [0,1e-12,0]])\n",
    "print(a)\n",
    "print(np.linalg.matrix_rank(a))\n",
    "print(np.linalg.cond(a))\n",
    "\n",
    "print('\\n fifth case \\n')\n",
    "\n",
    "a=np.array([[1e-0,0,1e-1],\n",
    "            [0,1e-1,0],\n",
    "            [0,1e-3,1e-44]])\n",
    "print(a)\n",
    "print(np.linalg.matrix_rank(a))\n",
    "print(np.linalg.cond(a))\n",
    "\n",
    "print('\\n sixth case \\n')\n",
    "\n",
    "a=np.array([[1e-0,0,1e-1],\n",
    "            [0,1e-1,0],\n",
    "            [0,1e-3,1e-4]])\n",
    "print(a)\n",
    "print(np.linalg.matrix_rank(a))\n",
    "print(np.linalg.cond(a))\n",
    "\n"
   ]
  },
  {
   "cell_type": "markdown",
   "metadata": {
    "id": "QO5hYQWron_D"
   },
   "source": [
    "# Примеры операций с матрицами\n",
    "\n",
    "<font size=4 face = 'Calibri' >  слайсы матриц"
   ]
  },
  {
   "cell_type": "code",
   "execution_count": null,
   "metadata": {
    "id": "sqzBClXXon_D",
    "outputId": "5f64d0c7-09c6-4c4f-838f-0116843f28d8"
   },
   "outputs": [
    {
     "name": "stdout",
     "output_type": "stream",
     "text": [
      "[[ 1  2  5]\n",
      " [ 3  2  4]\n",
      " [ 7  6 46]]\n",
      "first element, 1\n",
      "first row [1 2 5]\n",
      "first colmn [1 3 7]\n",
      "slice [ 4 46]\n"
     ]
    }
   ],
   "source": [
    "a=np.array([[1,2,5],[3,2,4],[7,6,46]])\n",
    "print(a)\n",
    "\n",
    "\n",
    "print ('first element, %d'%(a[0,0]))\n",
    "\n",
    "print ('first row '+str(a[0,:]))\n",
    "\n",
    "print ('first colmn '+str(a[:,0]))\n",
    "\n",
    "print ('slice '+str(a[1:3,2]))\n"
   ]
  },
  {
   "cell_type": "markdown",
   "metadata": {
    "id": "boBZ22n9on_F"
   },
   "source": [
    "<font size=4 face = 'Calibri' >  слияние (конкотинация) матриц"
   ]
  },
  {
   "cell_type": "code",
   "execution_count": null,
   "metadata": {
    "id": "zKQZsfReon_G",
    "outputId": "05945cbf-1676-4f9e-b805-7103180a2ba2",
    "scrolled": true
   },
   "outputs": [
    {
     "name": "stdout",
     "output_type": "stream",
     "text": [
      "\n",
      " horizontal concatenation \n",
      "\n",
      "[[ 35   1   2   5]\n",
      " [ 20   3   2   4]\n",
      " [100   7   6   5]]\n",
      "\n",
      " vertical  concatenation \n",
      "\n",
      "[[ 35  20 100]\n",
      " [  1   2   5]\n",
      " [  3   2   4]\n",
      " [  7   6   5]]\n"
     ]
    }
   ],
   "source": [
    "a = np.array([[1,2,5],[3,2,4],[7,6,5]])\n",
    "b = np.array([[35],[20],[100]])\n",
    "\n",
    "print('\\n horizontal concatenation \\n')\n",
    "c = np.hstack((b,a))\n",
    "print(c)\n",
    "\n",
    "print('\\n vertical  concatenation \\n')\n",
    "c = np.vstack((b.transpose(),a))\n",
    "print(c)\n"
   ]
  },
  {
   "cell_type": "code",
   "execution_count": null,
   "metadata": {
    "id": "TWM3VLHron_Q",
    "outputId": "d6f3802e-4e2b-43a3-ad82-a6fc70625e6d"
   },
   "outputs": [
    {
     "name": "stdout",
     "output_type": "stream",
     "text": [
      "[[1 2 5]\n",
      " [3 2 4]\n",
      " [7 6 5]]\n",
      "size  = 9\n",
      "shape = (3, 3)\n",
      "sum by colmns = [11 10 14]\n",
      "sum by rows   = [ 8  9 18]\n",
      "minimal row   = [1 2 5]\n",
      "maximal element   = 7\n",
      "maximum element along columns   = [2 2 0]\n"
     ]
    }
   ],
   "source": [
    "a = np.array([[1,2,5],[3,2,4],[7,6,5]])\n",
    "print(a)\n",
    "print('size  = '+str(a.size))\n",
    "print('shape = '+str(a.shape))\n",
    "print('sum by colmns = '+str(np.sum(a,axis=0)))\n",
    "print('sum by rows   = '+str(np.sum(a,axis=1)))\n",
    "print('minimal row   = '+str(np.min(a,axis=1)))\n",
    "print('maximal element   = '+str(np.max(a)))\n"
   ]
  },
  {
   "cell_type": "markdown",
   "metadata": {
    "id": "jcLc32GHon_x"
   },
   "source": [
    "### Упражнение"
   ]
  },
  {
   "cell_type": "markdown",
   "metadata": {
    "id": "yr2tVGQmon_0"
   },
   "source": [
    "<font size=4 face = 'Calibri' >  написать функцию, позволяющую найти максимальное значение в матрице\n"
   ]
  },
  {
   "cell_type": "code",
   "execution_count": null,
   "metadata": {
    "id": "RxjIQt2don_7"
   },
   "outputs": [],
   "source": [
    "#place your code hear\n",
    "\n",
    "\n"
   ]
  },
  {
   "cell_type": "markdown",
   "metadata": {},
   "source": [
    "# Работа со случайными величинами в Numpy"
   ]
  },
  {
   "cell_type": "markdown",
   "metadata": {},
   "source": [
    "## 1 Задача\n",
    "\n",
    "Учителя часто сталкиваются с задачей анализа роста детей в классе. Пусть рост учеников равномерно распределён от 140 см до 180 см. Напишите программу, генерирующую случайные значения роста для 30 учеников вашего класса и найдите среднее значение и стандартное отклонение среди всех учащихся."
   ]
  },
  {
   "cell_type": "code",
   "execution_count": 99,
   "metadata": {},
   "outputs": [
    {
     "name": "stdout",
     "output_type": "stream",
     "text": [
      "Средний рост учеников: 157.63 см\n",
      "Стандартное отклонение роста: 11.18 см\n"
     ]
    }
   ],
   "source": [
    "import numpy as np\n",
    "\n",
    "# Генерируем массив значений роста учеников\n",
    "height = np.random.uniform(low=140, high=180, size=30).astype(int)\n",
    "\n",
    "mean_height = height.mean()\n",
    "std_deviation = height.std()\n",
    "\n",
    "print(f\"Средний рост учеников: {mean_height:.2f} см\")\n",
    "print(f\"Стандартное отклонение роста: {std_deviation:.2f} см\")\n"
   ]
  },
  {
   "cell_type": "markdown",
   "metadata": {},
   "source": [
    "__Упражение__ \n",
    "\n",
    "1 добавьте к этому распределению медиану и медиану абсолютного отклонение от медианы по модулю \n",
    "\n",
    "2 пусть результаты замера роста учеников показаны ниже:\n",
    "```python\n",
    "height = [ 164, 151, 177, 157, 160, 163, 130, 127, 172, 151, 175, 146, 144,\n",
    "       176, 173, 154, 199, 151, 157, 146, 150, 149, 149, 144, 149, 159,\n",
    "       175, 147, 151, 198 ]\n",
    "```\n",
    "найдите какие из учеников имеют аномальне значения роста, и почему\n",
    "\n",
    "3 Для примера 2 - Замените 4 аномальных значения (как в большую, так и в меньшую стороны), проверьте как это сказалось на статистических характеристиках данных\n"
   ]
  },
  {
   "cell_type": "code",
   "execution_count": null,
   "metadata": {},
   "outputs": [],
   "source": []
  },
  {
   "cell_type": "markdown",
   "metadata": {},
   "source": [
    "## 2 Задача\n",
    "\n",
    "Представьте ситуацию экзаменационной сессии, где оценки для группы из 30 учеников распределяются нормально вокруг среднего балла 85 с дисперсией 15 баллов. \n",
    "\n"
   ]
  },
  {
   "cell_type": "code",
   "execution_count": 125,
   "metadata": {},
   "outputs": [
    {
     "name": "stdout",
     "output_type": "stream",
     "text": [
      "Ваш класс получил 17 пятерок.\n"
     ]
    }
   ],
   "source": [
    "scores = np.random.normal(loc=85, scale=15, size=30)\n",
    "excellent_students = sum(scores >= 80)\n",
    "\n",
    "print(f\"Ваш класс получил {excellent_students} пятерок.\")"
   ]
  },
  {
   "cell_type": "markdown",
   "metadata": {},
   "source": [
    "### Упражнение 1\n",
    "1 Запустите ваш код 5 раз подряд. Каждый раз записывайте средний рост.\n",
    "Почему значения не совпадают?\n",
    "\n",
    "2 Проверьте Закон больших чисел:\n",
    "Теперь увеличьте размер класса до 300 учеников и повторите. \n",
    "Как изменилась стабильность среднего?  \n",
    "\n",
    "3 Провеврьте как будет меняться стабильность всех параметров при 100, 1000 10_000 измерений,\n",
    "\n",
    "> [Закон больших чисел](https://ru.wikipedia.org/wiki/Закон_больших_чисел) среднее значение конечной выборки из фиксированного распределения близко к математическому ожиданию этого распределения. Значение среднего сходится при увеличении объема выборки.\n",
    "> Другими словами, чем больше объём выборки, чем чаще проводятся измерения какого-либо параметра, тем выше вероятность того, что результаты окажутся близкими к ожидаемым.\n",
    "> Закон больших чисел важен, поскольку он гарантирует устойчивость для средних значений некоторых случайных событий при достаточно длинной серии экспериментов.\n",
    "> "
   ]
  },
  {
   "cell_type": "code",
   "execution_count": null,
   "metadata": {},
   "outputs": [],
   "source": []
  },
  {
   "cell_type": "markdown",
   "metadata": {},
   "source": [
    "### Упражнение 2"
   ]
  },
  {
   "cell_type": "markdown",
   "metadata": {},
   "source": [
    "Сгенерируйте 10 000 оценок по нормальному закону.\n",
    "Посчитайте, сколько значений > 100 .\n",
    "Теперь «обрежьте» распределение:\n",
    "    \n",
    "```python\n",
    "scores = np.clip(np.random.normal(...), 0, 100)\n",
    "```\n",
    "\n",
    "Сравните среднее и долю отличников до и после обрезки."
   ]
  },
  {
   "cell_type": "code",
   "execution_count": null,
   "metadata": {},
   "outputs": [],
   "source": [
    "\n"
   ]
  },
  {
   "cell_type": "markdown",
   "metadata": {},
   "source": [
    "## 3 Прогноз вероятности жаркого дня\n",
    "\n",
    "Метеорологи часто используют упрощённые модели для быстрой оценки вероятностей. Предположим, что в июле дневная температура в вашем городе колеблется между 20°C и 35°C, и в рамках грубой оценки её можно считать равномерно распределённой в этом диапазоне.\n",
    "\n",
    "Смоделируйте 10_000  возможных значений температуры и оцените вероятность того, что завтра будет жарко — то есть температура превысит 30°C."
   ]
  },
  {
   "cell_type": "code",
   "execution_count": 6,
   "metadata": {},
   "outputs": [
    {
     "name": "stdout",
     "output_type": "stream",
     "text": [
      "Вероятность жаркого дня превышает 33.05%.\n"
     ]
    }
   ],
   "source": [
    "import numpy as np\n",
    "temp = np.random.uniform(low=20, high=35, size=10_000)\n",
    "hot_days = temp > 30\n",
    "probability_hot_day = hot_days.mean() * 100\n",
    "\n",
    "print(f\"Вероятность жаркого дня превышает {probability_hot_day:.2f}%.\")\n"
   ]
  },
  {
   "cell_type": "markdown",
   "metadata": {},
   "source": [
    "### Упражнение 1\n",
    "\n",
    "Теоретически: при равномерном распределении \n",
    "$$ P(T>30)= \\frac{35−20}{35−30}= \n",
    "≈33.3% $$\n",
    "Ваша симуляция должна дать близкий результат. \n",
    "\n",
    "Цель: Понять связь между объёмом симуляции и точностью оценки.\n",
    "\n",
    "Запустите код с size=10, size=100, size=1_000, size=100_000.\n"
   ]
  },
  {
   "cell_type": "code",
   "execution_count": null,
   "metadata": {},
   "outputs": [],
   "source": []
  },
  {
   "cell_type": "markdown",
   "metadata": {},
   "source": [
    "Вопросы:\n",
    "* При каком размере выборки ошибка становится меньше 1%?\n",
    "* Проверьте эмпирически, почему маленькие выборки дают «странные» результаты (например, 20% или 50%)?\n",
    "* Вывод: Для надёжной оценки вероятности нужно достаточно много симуляций"
   ]
  },
  {
   "cell_type": "code",
   "execution_count": null,
   "metadata": {},
   "outputs": [],
   "source": []
  },
  {
   "cell_type": "markdown",
   "metadata": {},
   "source": [
    "### Упражнение 2: «Равномерное vs. Реальное распределение»\n",
    "Цель: Осознать, что равномерное распределение — грубое упрощение.\n",
    "\n",
    "В реальности летняя температура чаще бывает около среднего (например, 27–28°C), а экстремумы (20°C и 35°C) — редки. Это больше похоже на нормальное или треугольное распределение.\n",
    "\n",
    "Смоделируйте температуру с помощью:\n",
    "* Нормального распределения: np.random.normal(27.5, 3, size=10_000), затем обрежьте до [20, 35] через np.clip.\n",
    "* Треугольного распределения: np.random.triangular(20, 27.5, 35, size=10_000) (пик в 27.5°C).\n",
    "* Для каждого случая оцените P(T>30) .\n",
    "\n",
    "Вопросы:\n",
    "\n",
    "* Какая модель даёт меньшую вероятность жары? Почему?\n",
    "* Какая модель реалистичнее для погоды?\n",
    "* Чем опасно использовать равномерное распределение в прогнозах?\n",
    "* Вывод: Выбор неправильной модели может привести к существенной ошибке в оценке рисков (например, при планировании энергопотребления). "
   ]
  },
  {
   "cell_type": "code",
   "execution_count": null,
   "metadata": {},
   "outputs": [],
   "source": []
  },
  {
   "cell_type": "markdown",
   "metadata": {},
   "source": [
    "### Упражнение 3: «А что, если изменится климат?»\n",
    "\n",
    "Предположим, из-за изменения климата весь диапазон температур сдвигается на +2°C: теперь температура от 22°C до 37°C.\n",
    "\n",
    "* Смоделируйте новое триугольное распределение.\n",
    "* Оцените новую вероятность P(T>30) .\n",
    "* Сравните с исходной вероятностью.\n",
    "* А если порог «жары» тоже повысится до 32°C — как изменится вероятность?\n",
    "\n"
   ]
  },
  {
   "cell_type": "code",
   "execution_count": null,
   "metadata": {},
   "outputs": [],
   "source": []
  },
  {
   "cell_type": "markdown",
   "metadata": {},
   "source": [
    "Вывод: Распределения с «тяжёлыми хвостами» или смещённые распределения экспоненциально увеличивают риск редких событий — это ключевой принцип в климатологии и управлении рисками. "
   ]
  },
  {
   "cell_type": "markdown",
   "metadata": {},
   "source": [
    "### Упражнениен 4 «Как сделать жару \"редкой\" или \"обычной\" — в зависимости от цели»\n",
    "\n",
    "Вы работаете в двух командах:\n",
    "\n",
    "* Команда крупного завода с вредным производством хочет успокоить жителей: «Жара — редкость, паниковать не надо!»\n",
    "* Команда климатологов хочет привлечь внимание: «Жаркие дни становятся нормой!»\n",
    "* Обе команды используют одни и те же исходные данные:\n",
    "\n",
    "«Температура в июле — от 20°C до 35°C». \n",
    "\n",
    "Но каждая выбирает свою статистическую модель, чтобы поддержать свою позицию.\n",
    "\n",
    "Выбирая из изученных распределений:\n",
    "\n",
    "* Смоделируйте «успокаивающий» сценарий с низкой P(T>30) .\n",
    "* Смоделируйте «тревожный» сценарий.\n",
    "\n",
    "напр:\n",
    "*  нормальное распределение со средним 29°C и стандартным отклонением 3°C (реалистичнее для потепления).\n",
    "Обрежьте значения до [20, 35]\n",
    "* равномерное распределние\n",
    "* триугольное распределение\n",
    "* скошенное ( бета-распределение) \n",
    "hourly_raw = np.random.beta(a=2, b=5, size=(10_000, 24))  # 10k дней по 24 часа\n",
    "hourly_temps = 20 + 15 * hourly_raw  # масштабируем на [20, 35]\n",
    "\n",
    "\n",
    "\n",
    "Для каждого из сценариев посчитайте среднее, дисперсию, медиану, вероятность P(T>30)"
   ]
  },
  {
   "cell_type": "code",
   "execution_count": null,
   "metadata": {},
   "outputs": [],
   "source": []
  },
  {
   "cell_type": "markdown",
   "metadata": {},
   "source": [
    "### Упражнение 5\n",
    "Проверьте центральную предельную теорему. Пусть есть 10 000 замеров по 30 дней (июль). Проверим что независимо от того каким было распределение в каждом из замеров (по 30 дней). Среднее по каждым замерам будет стремится к нормальному упражнению."
   ]
  },
  {
   "cell_type": "code",
   "execution_count": 55,
   "metadata": {
    "scrolled": true
   },
   "outputs": [],
   "source": [
    "daily_temps = np.random.beta(a=2, b=5, size=(10_000, 30))  # 10k дней Бета с a=2, b=5 — скошено влево (чаще низкие значения, но есть пики)\n",
    "daily_temps = 20 + 15 * daily_temps  # масштабируем на [20, 35]\n"
   ]
  },
  {
   "cell_type": "code",
   "execution_count": 56,
   "metadata": {},
   "outputs": [],
   "source": [
    "# daily_temps = np.random.uniform(20,35,size=(10_000, 30))  # 10k месяцев по 30 дней\n",
    "daily_avg = daily_temps.mean(axis=1)  # среднее по месяцам часам для каждого дня"
   ]
  },
  {
   "cell_type": "code",
   "execution_count": 57,
   "metadata": {},
   "outputs": [
    {
     "data": {
      "image/png": "[encoded data removed]",
      "text/plain": [
       "<Figure size 1200x400 with 2 Axes>"
      ]
     },
     "metadata": {},
     "output_type": "display_data"
    }
   ],
   "source": [
    "import matplotlib.pyplot as plt\n",
    "\n",
    "plt.figure(figsize=(12, 4))\n",
    "\n",
    "# Исходное почасовое распределение (возьмём один час для примера)\n",
    "plt.subplot(1, 2, 1)\n",
    "plt.hist(daily_temps[:, 0], bins=50, alpha=0.7, color='skyblue')\n",
    "plt.title('daily_temps')\n",
    "plt.xlabel('Температура (°C)')\n",
    "\n",
    "# Распределение среднесуточной температуры\n",
    "plt.subplot(1, 2, 2)\n",
    "plt.hist(daily_avg, bins=50, alpha=0.7, color='lightcoral')\n",
    "plt.title('daily_avg')\n",
    "plt.xlabel('Средняя температура (°C)')\n",
    "\n",
    "plt.tight_layout()\n",
    "plt.show()"
   ]
  },
  {
   "cell_type": "markdown",
   "metadata": {},
   "source": [
    "#### Задания к упражнению"
   ]
  },
  {
   "cell_type": "markdown",
   "metadata": {},
   "source": [
    "1 Применить ЦПТ к реальному метеорологическому показателю.\n",
    "\n",
    "* Сгенерируйте почасовые температуры за неделю (7 дней × 24 часа), используя ненормальное распределение (например, экспоненциальное, сдвинутое в [20, 35]).\n",
    "* Посчитайте среднюю температуру за каждый день.\n",
    "* Посчитайте среднюю температуру за неделю (среднее из 7 дневных средних).\n",
    "* Повторите 1000 раз → получите распределение недельных средних.\n",
    "* Постройте гистограмму. Похоже ли оно на нормальное?\n",
    "\n",
    "\n",
    "2 провеврьте как будут меняться результаты в зависимости от того по какой выборке усредняем (напр. если замеры не по 30 дней, а по 7 дней. \n",
    "\n",
    "3 Оцените вероятность жарких дней для каждого случая"
   ]
  },
  {
   "cell_type": "code",
   "execution_count": null,
   "metadata": {},
   "outputs": [],
   "source": []
  },
  {
   "cell_type": "markdown",
   "metadata": {},
   "source": [
    "Вывод:\n",
    "\n",
    "Даже если почасовые данные ненормальны, недельное среднее — почти нормально. Почему? (ЦПТ!) "
   ]
  },
  {
   "cell_type": "markdown",
   "metadata": {
    "id": "Ku1vjxlXooBB"
   },
   "source": [
    "# Модули SciPy\n",
    "\n",
    "#### SciPy   расширяет функционал NumPy\n",
    "##### в таблице ниже приведены некоторые из его библиотек:"
   ]
  },
  {
   "cell_type": "markdown",
   "metadata": {
    "id": "rEDWns9FooBB"
   },
   "source": [
    "Модуль|Для чего используется\n",
    "------|-----------------------\n",
    "scipy.constants| Набор математических и физических констант\n",
    "scipy.special|Много специальных функций для математической физики, такие как: Эйри, эллиптические, Бесселя, гамма, бета, гипергеометрические, параболического цилиндра, Матьё, шаровидной волны, Струве, Кельвина.\n",
    "    scipy.integrate |\tФункции для работы с численным интегрированием используя методы трапеции, Симпсона, Ромберга и другие. Также предоставляет методы для работы с полными дифференциальными уравнениями.   \n",
    "scipy.optimize\t| Стандартные методы поиска максимума/минимума для работы с обобщенными пользовательскими функциями. Включенные алгоритмы: Нелдера — Мида, Поулла ( Powell's), сопряженных градиентов, Бройдена — Флетчера — Гольдфарба — Шанно, наименьших квадратов, условной оптимизации, имитации отжига, полного перебора, Брента, Ньютона, бисекции, Бройдена, Андерсона и линейного поиска.\n",
    "scipy.linalg |\tБолее широкий функционал для работы с линейной алгеброй чем в NumPy. Предоставляет больше возможностей для использования специальных и быстрых функций, для специфических объектов (Например: трёхдиагональная матрица). Включенные методы: поиск невырожденной матрицы, поиск определителя, решение линейных систем уравнений, расчета норм и псевдообратной матрицы, спектрального разложения, сингулярного разложения, LU-разложения, разложения Холецкого, QR-разложения, разложения Шура и много других математических операций для работы с матрицами.\n",
    "scipy.sparse |\tФункции для работы с большими разреженными матрицами\n",
    "scipy.interpolate |\tМетоды и классы для интерполяции объектов, которые могут быть использованы для дискретных числовых данных. Линейная и сплайновая (Прим. переводчика: математическое представление плавных кривых) интерполяция доступна для одно- и двух-мерных наборов данных.\n",
    "scipy.fftpack |\tМетоды для обработки преобразований Фурье.\n",
    "scipy.signal  |\tМетоды для обработки сигналов, например: свертка функций, корреляция, дискретное преобразование Фурье, сглаживающий B-сплайн, фильтрация, и т.д и т.п.\n",
    "scipy.stats |\tБольшая библиотека статистических функций и распределений для работы с наборами данных."
   ]
  },
  {
   "cell_type": "code",
   "execution_count": null,
   "metadata": {
    "id": "D62wymfmooBC"
   },
   "outputs": [],
   "source": [
    "import scipy as sp"
   ]
  },
  {
   "cell_type": "markdown",
   "metadata": {
    "id": "anlTpc3AooBE"
   },
   "source": [
    "###### пример использования интерполяции"
   ]
  },
  {
   "cell_type": "code",
   "execution_count": null,
   "metadata": {
    "id": "Ml6-SwF8ooBE",
    "outputId": "c7f240f8-0820-4a10-bd96-d758f46e4322"
   },
   "outputs": [
    {
     "data": {
      "image/png": "[encoded data removed]",
      "text/plain": [
       "<Figure size 432x288 with 1 Axes>"
      ]
     },
     "metadata": {
      "needs_background": "light",
      "tags": []
     },
     "output_type": "display_data"
    }
   ],
   "source": [
    "# Generate data\n",
    "import numpy as np\n",
    "np.random.seed(0)\n",
    "measured_time = np.linspace(0, 1, 10)\n",
    "noise = 1e-1 * (np.random.random(10)*2 - 1)\n",
    "measures = np.sin(2 * np.pi * measured_time) + noise\n",
    "\n",
    "# Interpolate it to new time points\n",
    "from scipy.interpolate import interp1d\n",
    "linear_interp = interp1d(measured_time, measures)\n",
    "interpolation_time = np.linspace(0, 1, 50)\n",
    "linear_results = linear_interp(interpolation_time)\n",
    "cubic_interp = interp1d(measured_time, measures, kind='cubic')\n",
    "cubic_results = cubic_interp(interpolation_time)\n",
    "\n",
    "# Plot the data and the interpolation\n",
    "from matplotlib import pyplot as plt\n",
    "plt.figure(figsize=(6, 4))\n",
    "plt.plot(measured_time, measures, 'o', ms=6, label='measures')\n",
    "plt.plot(interpolation_time, linear_results, label='linear interp')\n",
    "plt.plot(interpolation_time, cubic_results, label='cubic interp')\n",
    "plt.legend()\n",
    "plt.show()\n"
   ]
  },
  {
   "cell_type": "markdown",
   "metadata": {
    "id": "n5DYp_OuooBG"
   },
   "source": [
    "###### пример с использованием оптимизации\n"
   ]
  },
  {
   "cell_type": "code",
   "execution_count": null,
   "metadata": {
    "id": "aJWwK7hEooBG",
    "outputId": "e90575fd-4eab-4837-f73d-712e7df04c81"
   },
   "outputs": [
    {
     "data": {
      "text/plain": [
       "<matplotlib.collections.PathCollection at 0x167d58587f0>"
      ]
     },
     "execution_count": 23,
     "metadata": {
      "tags": []
     },
     "output_type": "execute_result"
    },
    {
     "data": {
      "image/png": "[encoded data removed]",
      "text/plain": [
       "<Figure size 432x288 with 1 Axes>"
      ]
     },
     "metadata": {
      "needs_background": "light",
      "tags": []
     },
     "output_type": "display_data"
    }
   ],
   "source": [
    "import numpy as np\n",
    "\n",
    "# Seed the random number generator for reproducibility\n",
    "np.random.seed(0)\n",
    "\n",
    "x_data = np.linspace(-5, 5, num=50)\n",
    "y_data = 2.9 * np.sin(1.5 * x_data) + np.random.normal(size=50)\n",
    "\n",
    "# And plot it\n",
    "import matplotlib.pyplot as plt\n",
    "plt.figure(figsize=(6, 4))\n",
    "plt.scatter(x_data, y_data)\n"
   ]
  },
  {
   "cell_type": "code",
   "execution_count": null,
   "metadata": {
    "id": "djtcQKzHooBJ",
    "outputId": "6a13073f-1d6f-476c-e5d2-d272157687b2"
   },
   "outputs": [
    {
     "data": {
      "image/png": "[encoded data removed]",
      "text/plain": [
       "<Figure size 432x288 with 1 Axes>"
      ]
     },
     "metadata": {
      "needs_background": "light",
      "tags": []
     },
     "output_type": "display_data"
    },
    {
     "name": "stdout",
     "output_type": "stream",
     "text": [
      "[3.05931973 1.45754553]\n"
     ]
    }
   ],
   "source": [
    "from scipy import optimize\n",
    "\n",
    "def test_func(x, a, b):\n",
    "    return a * np.sin(b * x)\n",
    "\n",
    "params, params_covariance = optimize.curve_fit(test_func, x_data, y_data,\n",
    "                                               p0=[2, 2])\n",
    "\n",
    "plt.figure(figsize=(6, 4))\n",
    "plt.scatter(x_data, y_data, label='Data')\n",
    "plt.plot(x_data, test_func(x_data, params[0], params[1]),\n",
    "         label='Fitted function')\n",
    "\n",
    "plt.legend(loc='best')\n",
    "\n",
    "plt.show()\n",
    "\n",
    "\n",
    "print(params)"
   ]
  },
  {
   "cell_type": "markdown",
   "metadata": {
    "id": "JjVNag2IooBM"
   },
   "source": [
    "#### Использование оптимизации для нахождения минимума по методу градиентного спуска\n"
   ]
  },
  {
   "cell_type": "code",
   "execution_count": null,
   "metadata": {
    "id": "QJDeeMZcooBN",
    "outputId": "2739a883-884c-4932-aa96-c6ebac394d95"
   },
   "outputs": [
    {
     "data": {
      "text/plain": [
       "[<matplotlib.lines.Line2D at 0x167d5d521d0>]"
      ]
     },
     "execution_count": 28,
     "metadata": {
      "tags": []
     },
     "output_type": "execute_result"
    },
    {
     "data": {
      "image/png": "[encoded data removed]",
      "text/plain": [
       "<Figure size 432x288 with 1 Axes>"
      ]
     },
     "metadata": {
      "needs_background": "light",
      "tags": []
     },
     "output_type": "display_data"
    }
   ],
   "source": [
    "import numpy as np\n",
    "import matplotlib.pyplot as plt\n",
    "\n",
    "def f(x):\n",
    "    return x**2 + 10*np.sin(x)\n",
    "\n",
    "\n",
    "x = np.arange(-10, 10, 0.1)\n",
    "plt.plot(x, f(x))"
   ]
  },
  {
   "cell_type": "code",
   "execution_count": null,
   "metadata": {
    "id": "L6RoFgc0ooBQ",
    "outputId": "67644420-0060-47f5-ac93-78f84f914c21"
   },
   "outputs": [
    {
     "name": "stdout",
     "output_type": "stream",
     "text": [
      "      fun: -7.945823375615215\n",
      " hess_inv: array([[0.08589237]])\n",
      "      jac: array([-1.1920929e-06])\n",
      "  message: 'Optimization terminated successfully.'\n",
      "     nfev: 18\n",
      "      nit: 5\n",
      "     njev: 6\n",
      "   status: 0\n",
      "  success: True\n",
      "        x: array([-1.30644012])\n"
     ]
    }
   ],
   "source": [
    "from scipy import optimize\n",
    "\n",
    "# The default (Nelder Mead)\n",
    "print(optimize.minimize(f, x0=0))  # x0 - начальное приближение (откуда считать)"
   ]
  },
  {
   "cell_type": "code",
   "execution_count": null,
   "metadata": {
    "id": "SG0uuWRPooBS",
    "outputId": "8789d9e7-3e7b-47d3-b205-77a67839aa00"
   },
   "outputs": [
    {
     "name": "stdout",
     "output_type": "stream",
     "text": [
      "      fun: array([-7.94582338])\n",
      " hess_inv: <1x1 LbfgsInvHessProduct with dtype=float64>\n",
      "      jac: array([-1.42108547e-06])\n",
      "  message: b'CONVERGENCE: NORM_OF_PROJECTED_GRADIENT_<=_PGTOL'\n",
      "     nfev: 12\n",
      "      nit: 5\n",
      "   status: 0\n",
      "  success: True\n",
      "        x: array([-1.30644013])\n"
     ]
    }
   ],
   "source": [
    "print(optimize.minimize(f, x0=0, method=\"L-BFGS-B\"))"
   ]
  },
  {
   "cell_type": "markdown",
   "metadata": {
    "id": "7bnIsYxNooBT"
   },
   "source": [
    "### Упражнение\n",
    "<font size=4 face = 'Calibri' >  \n",
    "\n",
    "аппроксимировать кривую данных (температуры) по измерениям, найти точки минимума\n",
    "\n",
    "аппроксимацию провести при помощи зависимости \n",
    "$$ t = t_0 + A*cos(2\\pi\\frac{\\tau}{T}+\\varphi_0)$$\n",
    "* где \n",
    "    * $t$ - температура\n",
    "    * $t_0$ - смещение температуры\n",
    "    * $A$ -  коэффициент (амплитуда)\n",
    "    * $T$ - период (12 месяцев)\n",
    "    * $\\tau$ - временной отсчет (месяц)\n",
    "    * $\\varphi_0$ - коэффициент (фаза зависимости)"
   ]
  },
  {
   "cell_type": "code",
   "execution_count": null,
   "metadata": {
    "id": "wj06kPVqooBU",
    "outputId": "b7ea02a4-5061-4e08-b5c2-4e7829d3f96b"
   },
   "outputs": [
    {
     "data": {
      "text/plain": [
       "Text(0,0.5,'Min and max temperature')"
      ]
     },
     "execution_count": 68,
     "metadata": {
      "tags": []
     },
     "output_type": "execute_result"
    },
    {
     "data": {
      "image/png": "[encoded data removed]",
      "text/plain": [
       "<Figure size 432x288 with 1 Axes>"
      ]
     },
     "metadata": {
      "needs_background": "light",
      "tags": []
     },
     "output_type": "display_data"
    }
   ],
   "source": [
    "import numpy as np\n",
    "\n",
    "temp_max = 60-np.array([17,  19,  21,  28,  33,  38, 37,  37,  31,  23,  19,  18])\n",
    "temp_min = 70-np.array([-62, -59, -56, -46, -32, -18, -9, -13, -25, -46, -52, -58])\n",
    "\n",
    "import matplotlib.pyplot as plt\n",
    "months = np.arange(12)\n",
    "plt.plot(months, temp_max, 'ro')\n",
    "plt.plot(months, temp_min, 'bo')\n",
    "plt.xlabel('Month')\n",
    "plt.ylabel('Min and max temperature')"
   ]
  },
  {
   "cell_type": "markdown",
   "metadata": {
    "id": "l3VnQqxMooBV"
   },
   "source": [
    "<font size=4 face = 'Calibri' >  схожее решение если возникли вопросы\n",
    "https://www.scipy-lectures.org/intro/scipy/auto_examples/solutions/plot_curvefit_temperature_data.html#sphx-glr-intro-scipy-auto-examples-solutions-plot-curvefit-temperature-data-py"
   ]
  },
  {
   "cell_type": "code",
   "execution_count": null,
   "metadata": {
    "id": "huW9QJSBooBW",
    "outputId": "7286a38c-c608-4828-b44e-40f6fa3721f5"
   },
   "outputs": [
    {
     "name": "stdout",
     "output_type": "stream",
     "text": [
      "[ 32.37074149 -10.63955648  10.86653728]\n",
      "[107.71075225  25.20712455   7.48066965]\n"
     ]
    }
   ],
   "source": [
    "from scipy import optimize\n",
    "\n",
    "def yearly_temps(tau, t0, A, T, phi0): \n",
    "    out_rel = #place your code here\n",
    "    return (out_rel)\n",
    "\n",
    "initial_values_max_t = [0,0,0] # значения лучше поменять на те, которые позволяют получить более точные результаты\n",
    "\n",
    "initial_values_min_t = [0,0,0]\n",
    "\n",
    "res_max, _ = optimize.curve_fit(yearly_temps, months,  temp_max, initial_values_max_t)\n",
    "\n",
    "res_min, _ = optimize.curve_fit(yearly_temps, months,  temp_min, initial_values_min_t)\n",
    "\n",
    "print (res_max)\n",
    "\n",
    "print (res_min)\n"
   ]
  },
  {
   "cell_type": "code",
   "execution_count": null,
   "metadata": {
    "id": "7fm6aJa7ooBX",
    "outputId": "bf50327d-0d19-48f4-bc29-b92c542b1213"
   },
   "outputs": [
    {
     "data": {
      "image/png": "[encoded data removed]",
      "text/plain": [
       "<Figure size 432x288 with 1 Axes>"
      ]
     },
     "metadata": {
      "needs_background": "light",
      "tags": []
     },
     "output_type": "display_data"
    }
   ],
   "source": [
    "days = np.linspace(0, 12, num=365)\n",
    "\n",
    "plt.figure()\n",
    "plt.plot(months, temp_max, 'ro')\n",
    "plt.plot(days, yearly_temps(days, *res_max), 'r-')\n",
    "plt.plot(months, temp_min, 'bo')\n",
    "plt.plot(days, yearly_temps(days, *res_min), 'b-')\n",
    "plt.xlabel('Month')\n",
    "plt.ylabel('Temperature ($^\\circ$C)')\n",
    "\n",
    "plt.show()"
   ]
  },
  {
   "cell_type": "markdown",
   "metadata": {
    "id": "aOBSz2CGooBa"
   },
   "source": [
    "<font size=4 face = 'Calibri' >  Больше примеров работы с модулями scipy, numpy и matplotlib можно найти на сайте\n",
    "https://www.scipy-lectures.org/"
   ]
  },
  {
   "cell_type": "markdown",
   "metadata": {
    "id": "s9ocP4q8ooBa"
   },
   "source": [
    "https://www.scipy-lectures.org/intro/matplotlib/index.html - matplotlib\n",
    "\n",
    "    https://www.scipy-lectures.org/intro/numpy/index.html - numpy\n",
    "    \n",
    "        https://www.scipy-lectures.org/intro/scipy.html - scipy\n",
    "        \n",
    "        при нажатии на большенство примеров можно посмотреть соответствующий им код"
   ]
  },
  {
   "cell_type": "code",
   "execution_count": null,
   "metadata": {
    "id": "cb2Dil4ZooBb"
   },
   "outputs": [],
   "source": []
  },
  {
   "cell_type": "code",
   "execution_count": null,
   "metadata": {
    "id": "lBRFQhCPooBe"
   },
   "outputs": [],
   "source": []
  }
 ],
 "metadata": {
  "colab": {
   "name": "lab2_rus.ipynb",
   "provenance": []
  },
  "kernelspec": {
   "display_name": "Python 3 (ipykernel)",
   "language": "python",
   "name": "python3"
  },
  "language_info": {
   "codemirror_mode": {
    "name": "ipython",
    "version": 3
   },
   "file_extension": ".py",
   "mimetype": "text/x-python",
   "name": "python",
   "nbconvert_exporter": "python",
   "pygments_lexer": "ipython3",
   "version": "3.12.2"
  }
 },
 "nbformat": 4,
 "nbformat_minor": 4
}
